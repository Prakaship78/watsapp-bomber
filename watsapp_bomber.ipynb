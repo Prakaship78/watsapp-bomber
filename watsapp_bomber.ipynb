{
 "cells": [
  {
   "cell_type": "code",
   "execution_count": null,
   "metadata": {},
   "outputs": [
    {
     "name": "stdout",
     "output_type": "stream",
     "text": [
      "enter the name of userserendeep\n",
      "enter message you want to sendwatsapp bomber\n",
      "Number of Messages you want to send100\n"
     ]
    }
   ],
   "source": [
    "name=input(\"enter the name of user\")\n",
    "mssg=input(\"enter message you want to send\")\n",
    "number=int(input(\"Number of Messages you want to send\"))\n",
    "from selenium import webdriver \n",
    "from time import sleep\n",
    "driver = webdriver.Firefox(executable_path='/home/prakash/Downloads/geckodriver')\n",
    "driver.get('https://web.whatsapp.com/')\n",
    "sleep(5)\n",
    "search = driver.find_element_by_xpath(\"//input[@class='jN-F5 copyable-text selectable-text']\")\n",
    "search.send_keys(name)\n",
    "sleep(3)\n",
    "click = driver.find_element_by_xpath(\"//span[@class='matched-text']\")\n",
    "click.click()\n",
    "sleep(2)\n",
    "msg_box = driver.find_element_by_xpath(\"//div[@class='_2S1VP copyable-text selectable-text']\")\n",
    "\n",
    "for i in range(1,number):\n",
    "   # msg_box = driver.find_element_by_xpath(\"//div[@class='_2S1VP copyable-text selectable-text']\")\n",
    "    msg_box.send_keys(mssg)\n",
    "    send = driver.find_element_by_xpath(\"//button[@class='_35EW6']\")\n",
    "    send.click()\n"
   ]
  },
  {
   "cell_type": "code",
   "execution_count": null,
   "metadata": {},
   "outputs": [],
   "source": []
  },
  {
   "cell_type": "code",
   "execution_count": null,
   "metadata": {},
   "outputs": [],
   "source": []
  }
 ],
 "metadata": {
  "kernelspec": {
   "display_name": "Python 3",
   "language": "python",
   "name": "python3"
  },
  "language_info": {
   "codemirror_mode": {
    "name": "ipython",
    "version": 3
   },
   "file_extension": ".py",
   "mimetype": "text/x-python",
   "name": "python",
   "nbconvert_exporter": "python",
   "pygments_lexer": "ipython3",
   "version": "3.7.1"
  }
 },
 "nbformat": 4,
 "nbformat_minor": 2
}
